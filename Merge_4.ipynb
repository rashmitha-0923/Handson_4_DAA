{
  "nbformat": 4,
  "nbformat_minor": 0,
  "metadata": {
    "colab": {
      "provenance": []
    },
    "kernelspec": {
      "name": "python3",
      "display_name": "Python 3"
    },
    "language_info": {
      "name": "python"
    }
  },
  "cells": [
    {
      "cell_type": "code",
      "execution_count": 2,
      "metadata": {
        "colab": {
          "base_uri": "https://localhost:8080/"
        },
        "id": "0lfzbNzL4Zm2",
        "outputId": "ff990ac5-17f2-4817-e84d-0b62f8d87d88"
      },
      "outputs": [
        {
          "output_type": "stream",
          "name": "stdout",
          "text": [
            "Test Case 1:\n",
            "Starting with the input lists: [[1, 3, 5, 7], [2, 4, 6, 8], [0, 9, 10, 11]]\n",
            "\n",
            "Combining [1, 3, 5, 7] with [2, 4, 6, 8]\n",
            "Result after merging: [1, 2, 3, 4, 5, 6, 7, 8]\n",
            "\n",
            "Lists after this merging round: [[1, 2, 3, 4, 5, 6, 7, 8], [0, 9, 10, 11]]\n",
            "\n",
            "Combining [1, 2, 3, 4, 5, 6, 7, 8] with [0, 9, 10, 11]\n",
            "Result after merging: [0, 1, 2, 3, 4, 5, 6, 7, 8, 9, 10, 11]\n",
            "\n",
            "Lists after this merging round: [[0, 1, 2, 3, 4, 5, 6, 7, 8, 9, 10, 11]]\n",
            "\n",
            "The final merged list: [0, 1, 2, 3, 4, 5, 6, 7, 8, 9, 10, 11]\n",
            "\n",
            "Test Case 2:\n",
            "Starting with the input lists: [[1, 3, 7], [2, 4, 8], [9, 10, 11]]\n",
            "\n",
            "Combining [1, 3, 7] with [2, 4, 8]\n",
            "Result after merging: [1, 2, 3, 4, 7, 8]\n",
            "\n",
            "Lists after this merging round: [[1, 2, 3, 4, 7, 8], [9, 10, 11]]\n",
            "\n",
            "Combining [1, 2, 3, 4, 7, 8] with [9, 10, 11]\n",
            "Result after merging: [1, 2, 3, 4, 7, 8, 9, 10, 11]\n",
            "\n",
            "Lists after this merging round: [[1, 2, 3, 4, 7, 8, 9, 10, 11]]\n",
            "\n",
            "The final merged list: [1, 2, 3, 4, 7, 8, 9, 10, 11]\n"
          ]
        },
        {
          "output_type": "execute_result",
          "data": {
            "text/plain": [
              "[1, 2, 3, 4, 7, 8, 9, 10, 11]"
            ]
          },
          "metadata": {},
          "execution_count": 2
        }
      ],
      "source": [
        "def merge_two_sorted_lists(list1, list2):\n",
        "    print(f\"Combining {list1} with {list2}\")\n",
        "    merged_list = []\n",
        "    idx1, idx2 = 0, 0  # Indices for both lists\n",
        "\n",
        "    # Compare elements from both lists and add the smaller one to the merged list\n",
        "    while idx1 < len(list1) and idx2 < len(list2):\n",
        "        if list1[idx1] < list2[idx2]:\n",
        "            merged_list.append(list1[idx1])\n",
        "            idx1 += 1\n",
        "        else:\n",
        "            merged_list.append(list2[idx2])\n",
        "            idx2 += 1\n",
        "\n",
        "    # Append any remaining elements from list1\n",
        "    while idx1 < len(list1):\n",
        "        merged_list.append(list1[idx1])\n",
        "        idx1 += 1\n",
        "\n",
        "    # Append any remaining elements from list2\n",
        "    while idx2 < len(list2):\n",
        "        merged_list.append(list2[idx2])\n",
        "        idx2 += 1\n",
        "\n",
        "    print(f\"Result after merging: {merged_list}\\n\")\n",
        "    return merged_list\n",
        "\n",
        "# Function to merge multiple sorted arrays using the divide-and-conquer technique\n",
        "def merge_k_sorted_lists(lists):\n",
        "    if not lists:\n",
        "        return []\n",
        "\n",
        "    print(f\"Starting with the input lists: {lists}\\n\")\n",
        "\n",
        "    # Continue merging the lists in pairs until only one list remains\n",
        "    while len(lists) > 1:\n",
        "        temp_merged = []\n",
        "\n",
        "        for i in range(0, len(lists), 2):\n",
        "            if i + 1 < len(lists):\n",
        "                temp_merged.append(merge_two_sorted_lists(lists[i], lists[i + 1]))\n",
        "            else:\n",
        "                temp_merged.append(lists[i])\n",
        "\n",
        "        lists = temp_merged  # Update the list with newly merged results\n",
        "        print(f\"Lists after this merging round: {lists}\\n\")\n",
        "\n",
        "    print(f\"The final merged list: {lists[0]}\")\n",
        "    return lists[0]\n",
        "\n",
        "# Test cases\n",
        "test_arrays1 = [[1, 3, 5, 7], [2, 4, 6, 8], [0, 9, 10, 11]]\n",
        "test_arrays2 = [[1, 3, 7], [2, 4, 8], [9, 10, 11]]\n",
        "\n",
        "print(\"Test Case 1:\")\n",
        "merge_k_sorted_lists(test_arrays1)\n",
        "\n",
        "print(\"\\nTest Case 2:\")\n",
        "merge_k_sorted_lists(test_arrays2)"
      ]
    }
  ]
}