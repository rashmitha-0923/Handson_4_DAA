{
  "nbformat": 4,
  "nbformat_minor": 0,
  "metadata": {
    "colab": {
      "provenance": []
    },
    "kernelspec": {
      "name": "python3",
      "display_name": "Python 3"
    },
    "language_info": {
      "name": "python"
    }
  },
  "cells": [
    {
      "cell_type": "code",
      "execution_count": 1,
      "metadata": {
        "colab": {
          "base_uri": "https://localhost:8080/"
        },
        "id": "jcifVXmT74ER",
        "outputId": "e100ee89-357c-4999-b7c8-b0794950aab1"
      },
      "outputs": [
        {
          "output_type": "stream",
          "name": "stdout",
          "text": [
            "[2]\n",
            "[1, 2, 3, 4, 5]\n"
          ]
        }
      ],
      "source": [
        "def eliminate_duplicates(lst):\n",
        "    if not lst:\n",
        "        return lst\n",
        "\n",
        "    unique_index = 0\n",
        "\n",
        "    for current in range(1, len(lst)):\n",
        "        if lst[current] != lst[unique_index]:\n",
        "            unique_index += 1\n",
        "            lst[unique_index] = lst[current]\n",
        "\n",
        "    return lst[:unique_index + 1]\n",
        "\n",
        "print(eliminate_duplicates([2, 2, 2, 2, 2]))\n",
        "print(eliminate_duplicates([1, 2, 2, 3, 4, 4, 4, 5, 5]))"
      ]
    }
  ]
}